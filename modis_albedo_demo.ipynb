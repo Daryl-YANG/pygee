{
 "cells": [
  {
   "cell_type": "code",
   "execution_count": 1,
   "id": "b8451625",
   "metadata": {},
   "outputs": [],
   "source": [
    "# import stats packages\n",
    "import numpy as np\n",
    "import pandas as pd\n",
    "import sys, os\n",
    "import glob\n",
    "import fiona\n",
    "from plotnine import ggplot\n",
    "\n",
    "# import spatial modules\n",
    "import ee\n",
    "import geemap\n",
    "#from osgeo import gdal #install with pip3, don't use conda\n",
    "\n",
    "# don't display warnings\n",
    "import warnings\n",
    "warnings.filterwarnings('ignore') "
   ]
  },
  {
   "cell_type": "code",
   "execution_count": 2,
   "id": "19c1eb88",
   "metadata": {},
   "outputs": [
    {
     "data": {
      "text/html": [
       "<p>To authorize access needed by Earth Engine, open the following\n",
       "        URL in a web browser and follow the instructions:</p>\n",
       "        <p><a href=https://code.earthengine.google.com/client-auth?scopes=https%3A//www.googleapis.com/auth/earthengine%20https%3A//www.googleapis.com/auth/devstorage.full_control&request_id=HScv302NXMhuJWV5B22xrbEMpBLJglYbolcCAQVlz-I&tc=TgGEIIzvGCox-KndlGrEeXGyMuKp76BUD1pf-HT7klE&cc=o7PVcymfnYRGv7bdsTpi-XZGyKSYNr0vpvrohUiihcA>https://code.earthengine.google.com/client-auth?scopes=https%3A//www.googleapis.com/auth/earthengine%20https%3A//www.googleapis.com/auth/devstorage.full_control&request_id=HScv302NXMhuJWV5B22xrbEMpBLJglYbolcCAQVlz-I&tc=TgGEIIzvGCox-KndlGrEeXGyMuKp76BUD1pf-HT7klE&cc=o7PVcymfnYRGv7bdsTpi-XZGyKSYNr0vpvrohUiihcA</a></p>\n",
       "        <p>The authorization workflow will generate a code, which you\n",
       "        should paste in the box below</p>\n",
       "        "
      ],
      "text/plain": [
       "<IPython.core.display.HTML object>"
      ]
     },
     "metadata": {},
     "output_type": "display_data"
    },
    {
     "name": "stdout",
     "output_type": "stream",
     "text": [
      "Enter verification code: 4/1ARtbsJoZRtdTZa7wtCW3DNsm7hp3_t-Ppk471D8CkUCAt_NVwHkH2Le0IoU\n",
      "\n",
      "Successfully saved authorization token.\n"
     ]
    }
   ],
   "source": [
    "#********************************* Initialize GEE  ***********************************#\n",
    "## trigger the authentication flow. only need once\n",
    "ee.Authenticate()\n",
    "## After inserting the API key initialize GEE\n",
    "ee.Initialize()"
   ]
  },
  {
   "cell_type": "code",
   "execution_count": 6,
   "id": "3cc0a7a9",
   "metadata": {
    "tags": []
   },
   "outputs": [
    {
     "name": "stdout",
     "output_type": "stream",
     "text": [
      "/Users/darylyang/Desktop/conda/gee/test\n"
     ]
    }
   ],
   "source": [
    "#****************************** define user parameters *******************************#\n",
    "# setup output directory\n",
    "outDIR=\"/Users/darylyang/Desktop/conda/gee/test\"\n",
    "# create output folder if it does not exist\n",
    "os.makedirs(outDIR, exist_ok=True)\n",
    "# print output directory\n",
    "print(outDIR)\n",
    "\n",
    "# setup date range in which MODIS data will be extracted\n",
    "dateBEG = ee.Date(\"2011-01-01\")\n",
    "dateEND = ee.Date(\"2015-12-31\")\n",
    "# setup month in which MODIS data will be extracted \n",
    "monBEG = 7\n",
    "monEND = 7\n",
    "\n",
    "# set visualization parameters.\n",
    "lst_vis_params = {\n",
    "    'min': 100,\n",
    "    'max': 300,\n",
    "    'palette': ['21325E', '662A00', 'F6F54D']\n",
    "}"
   ]
  },
  {
   "cell_type": "code",
   "execution_count": 7,
   "id": "14e23bd5",
   "metadata": {
    "tags": []
   },
   "outputs": [
    {
     "name": "stdout",
     "output_type": "stream",
     "text": [
      "Count:  155\n",
      "\n"
     ]
    }
   ],
   "source": [
    "#********************************* load in data **************************************#\n",
    "# load in modis land surface albedo\n",
    "modCOLL = ee.ImageCollection('MODIS/006/MCD43A3').filter(ee.Filter.date(dateBEG, dateEND))\n",
    "modCOLL = modCOLL.filter(ee.Filter.calendarRange(monBEG,monEND,'month'));\n",
    "# count the number of images found\n",
    "count = modCOLL.size()\n",
    "print('Count: ', str(count.getInfo())+'\\n')\n",
    "# extract white sky and black sky albedo\n",
    "modALB_WSA = modCOLL.select('Albedo_WSA_shortwave')\n",
    "modALB_BSA = modCOLL.select('Albedo_BSA_shortwave')\n",
    "\n",
    "# load in a polygon where MODIS will be clipped out\n",
    "shpDIR = \"/Volumes/data2/dyang/projects/arctic_energy/boundary/above_domain_use.shp\"\n",
    "shpVCT = geemap.shp_to_ee(shpDIR)"
   ]
  },
  {
   "cell_type": "code",
   "execution_count": 8,
   "id": "53dd40a9",
   "metadata": {
    "scrolled": true
   },
   "outputs": [
    {
     "data": {
      "application/vnd.jupyter.widget-view+json": {
       "model_id": "577842a9407b40e38fb99c0ae1858314",
       "version_major": 2,
       "version_minor": 0
      },
      "text/plain": [
       "Map(center=[65, -120], controls=(WidgetControl(options=['position', 'transparent_bg'], widget=HBox(children=(T…"
      ]
     },
     "metadata": {},
     "output_type": "display_data"
    }
   ],
   "source": [
    "#******************************** preprocessing *************************************#\n",
    "# clip out the region defined by shp file\n",
    "def geeclip (image):\n",
    "    return image.clip(shpVCT)\n",
    "modALB_WSA_CLP = modALB_WSA.map(geeclip)\n",
    "modALB_BSA_CLP = modALB_BSA.map(geeclip)\n",
    "\n",
    "# calculate mean\n",
    "modALB_WSA_MN = modALB_WSA_CLP.reduce(ee.Reducer.mean())\n",
    "modALB_BSA_MN = modALB_BSA_CLP.reduce(ee.Reducer.mean())\n",
    "\n",
    "modALB_MN = modALB_WSA_MN.add(modALB_BSA_MN).divide(2)\n",
    "\n",
    "# make a quick display show the data region\n",
    "Map = geemap.Map(center=(65, -120), zoom=3)\n",
    "Map.addLayer(shpVCT, {}, 'ROI')\n",
    "Map.addLayer(modALB_MN, lst_vis_params, 'MODIS LST', True, 1)\n",
    "Map.add_colorbar(vis_params=lst_vis_params, label='MODIS LST (Scale = 0.001)')\n",
    "Map"
   ]
  },
  {
   "cell_type": "code",
   "execution_count": 43,
   "id": "525f55ef",
   "metadata": {},
   "outputs": [],
   "source": [
    "#******************************** preprocessing *************************************#\n",
    "geometry = ee.Geometry.Rectangle([-168, 49, -81, 80])\n",
    "#geometry = shpVCT.geometry().bounds().getInfo()['coordinates']\n",
    "task = ee.batch.Export.image.toDrive(**{\n",
    "    'image': modALB_MN, \n",
    "    'description': 'modis_albedo_above_month_12', \n",
    "    'folder': 'modis_albedo', \n",
    "    'scale': 500, \n",
    "    'region': geometry, #shpVCT.geometry().bounds().getInfo()['coordinates'], \n",
    "    'maxPixels': 10e12 })\n",
    "task.start()"
   ]
  },
  {
   "cell_type": "code",
   "execution_count": null,
   "id": "8f6aebb2",
   "metadata": {},
   "outputs": [],
   "source": []
  }
 ],
 "metadata": {
  "kernelspec": {
   "display_name": "Python 3 (ipykernel)",
   "language": "python",
   "name": "python3"
  },
  "language_info": {
   "codemirror_mode": {
    "name": "ipython",
    "version": 3
   },
   "file_extension": ".py",
   "mimetype": "text/x-python",
   "name": "python",
   "nbconvert_exporter": "python",
   "pygments_lexer": "ipython3",
   "version": "3.10.4"
  }
 },
 "nbformat": 4,
 "nbformat_minor": 5
}
