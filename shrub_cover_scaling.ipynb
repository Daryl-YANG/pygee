{
 "cells": [
  {
   "cell_type": "code",
   "execution_count": 17,
   "id": "06da221f-2329-40bb-8d05-b45d441ac7cc",
   "metadata": {},
   "outputs": [],
   "source": [
    "# import stats packages\n",
    "import numpy as np\n",
    "import pandas as pd\n",
    "import sys, os\n",
    "import glob\n",
    "import fiona\n",
    "import fnmatch\n",
    "from plotnine import ggplot\n",
    "from osgeo import gdal, gdal_array\n",
    "\n",
    "# import spatial modules\n",
    "import ee\n",
    "import geemap\n",
    "#from osgeo import gdal #install with pip3, don't use conda\n",
    "\n",
    "# don't display warnings\n",
    "import warnings\n",
    "warnings.filterwarnings('ignore') "
   ]
  },
  {
   "cell_type": "code",
   "execution_count": 2,
   "id": "bd5d171a-eff5-4d37-be6e-ca2e8c741fa5",
   "metadata": {},
   "outputs": [
    {
     "data": {
      "text/html": [
       "<p>To authorize access needed by Earth Engine, open the following\n",
       "        URL in a web browser and follow the instructions:</p>\n",
       "        <p><a href=https://code.earthengine.google.com/client-auth?scopes=https%3A//www.googleapis.com/auth/earthengine%20https%3A//www.googleapis.com/auth/devstorage.full_control&request_id=rljovnRiGQ0sbXcTfKwJCM31oxcmjfExorYqXI_fzak&tc=EYCqOf1pHMKdUj82fmhKDY1s1TTaJB9zxpesrtWxxNY&cc=eRTYGjgOKY7qlUVYauNAYquPhBm-bk6uxt6SnudAySE>https://code.earthengine.google.com/client-auth?scopes=https%3A//www.googleapis.com/auth/earthengine%20https%3A//www.googleapis.com/auth/devstorage.full_control&request_id=rljovnRiGQ0sbXcTfKwJCM31oxcmjfExorYqXI_fzak&tc=EYCqOf1pHMKdUj82fmhKDY1s1TTaJB9zxpesrtWxxNY&cc=eRTYGjgOKY7qlUVYauNAYquPhBm-bk6uxt6SnudAySE</a></p>\n",
       "        <p>The authorization workflow will generate a code, which you\n",
       "        should paste in the box below</p>\n",
       "        "
      ],
      "text/plain": [
       "<IPython.core.display.HTML object>"
      ]
     },
     "metadata": {},
     "output_type": "display_data"
    },
    {
     "name": "stdin",
     "output_type": "stream",
     "text": [
      "Enter verification code:  4/1AX4XfWiU2cEHFMDgbcIOtvqKTy1moZV__lKsPVm3tJ2W645QGavaMZwxQ74\n"
     ]
    },
    {
     "name": "stdout",
     "output_type": "stream",
     "text": [
      "\n",
      "Successfully saved authorization token.\n"
     ]
    }
   ],
   "source": [
    "#********************************* Initialize GEE  ***********************************#\n",
    "## trigger the authentication flow. only need once\n",
    "ee.Authenticate()\n",
    "## After inserting the API key initialize GEE\n",
    "ee.Initialize()"
   ]
  },
  {
   "cell_type": "code",
   "execution_count": 13,
   "id": "81f18b7c-394c-4b42-bc34-056d11600ac0",
   "metadata": {},
   "outputs": [
    {
     "name": "stdout",
     "output_type": "stream",
     "text": [
      "/Users/darylyang/Desktop/conda/gee/test\n"
     ]
    }
   ],
   "source": [
    "#****************************** define user parameters *******************************#\n",
    "# setup output directory\n",
    "outDIR=\"/Users/darylyang/Desktop/conda/gee/test\"\n",
    "# create output folder if it does not exist\n",
    "os.makedirs(outDIR, exist_ok=True)\n",
    "# print output directory\n",
    "print(outDIR)\n",
    "\n",
    "# setup date range in which MODIS data will be extracted\n",
    "dateBEG = ee.Date(\"2019-01-01\")\n",
    "dateEND = ee.Date(\"2021-12-31\")\n",
    "# setup month in which MODIS data will be extracted \n",
    "monBEG = 7\n",
    "monEND = 8\n",
    "\n",
    "# set visualization parameters.\n",
    "vis_params = {\n",
    "    'min': 100,\n",
    "    'max': 300,\n",
    "    'palette': ['21325E', '662A00', 'F6F54D']\n",
    "}"
   ]
  },
  {
   "cell_type": "code",
   "execution_count": 14,
   "id": "555ae27a-1ad4-4e7a-955b-a65b63eb4605",
   "metadata": {},
   "outputs": [
    {
     "name": "stdout",
     "output_type": "stream",
     "text": [
      "Count:  94275\n",
      "\n"
     ]
    }
   ],
   "source": [
    "#********************************* load in data **************************************#\n",
    "# load in landsat surface reflectance data\n",
    "lsCOLL = ee.ImageCollection('LANDSAT/LC08/C02/T1_L2').filter(ee.Filter.date(dateBEG, dateEND))\n",
    "lsCOLL = lsCOLL.filter(ee.Filter.calendarRange(monBEG,monEND,'month'));\n",
    "# count the number of images found\n",
    "count = lsCOLL.size()\n",
    "print('Count: ', str(count.getInfo())+'\\n')\n",
    "\n",
    "# load in aviris-ng shrub cover (alder)\n",
    "coverDIR = \"/Volumes/data2/dyang/projects/shrub_change/data/shrub_cover/alder\"\n",
    "coverLIST = fnmatch.filter(os.listdir(coverDIR), '*_alder_cover.tif')\n",
    "\n",
    "# make a quick display\n",
    "Map = geemap.Map(center=(65, -120), zoom=3)"
   ]
  },
  {
   "cell_type": "code",
   "execution_count": 15,
   "id": "4e3180b7-7a7d-49c8-a61d-34dd699cfdf5",
   "metadata": {},
   "outputs": [
    {
     "ename": "AttributeError",
     "evalue": "\n\nThe image argument in 'addLayer' function must be an instance of one of ee.Image, ee.Geometry, ee.Feature or ee.FeatureCollection.",
     "output_type": "error",
     "traceback": [
      "\u001b[0;31m---------------------------------------------------------------------------\u001b[0m",
      "\u001b[0;31mAttributeError\u001b[0m                            Traceback (most recent call last)",
      "Input \u001b[0;32mIn [15]\u001b[0m, in \u001b[0;36m<cell line: 2>\u001b[0;34m()\u001b[0m\n\u001b[1;32m      3\u001b[0m     coverRST \u001b[38;5;241m=\u001b[39m os\u001b[38;5;241m.\u001b[39mpath\u001b[38;5;241m.\u001b[39mjoin(coverDIR, coverIMG)\n\u001b[1;32m      4\u001b[0m     \u001b[38;5;66;03m#coverIMG = geemap.load_GeoTIFF(coverIMG_DIR)\u001b[39;00m\n\u001b[0;32m----> 5\u001b[0m     \u001b[43mMap\u001b[49m\u001b[38;5;241;43m.\u001b[39;49m\u001b[43maddLayer\u001b[49m\u001b[43m(\u001b[49m\u001b[43mcoverRST\u001b[49m\u001b[43m,\u001b[49m\u001b[43m \u001b[49m\u001b[43mvis_params\u001b[49m\u001b[43m,\u001b[49m\u001b[43m \u001b[49m\u001b[43mcoverIMG\u001b[49m\u001b[43m)\u001b[49m\n\u001b[1;32m      7\u001b[0m Map\n",
      "File \u001b[0;32m~/opt/anaconda3/envs/pygee/lib/python3.9/site-packages/geemap/geemap.py:1370\u001b[0m, in \u001b[0;36mMap.add_ee_layer\u001b[0;34m(self, ee_object, vis_params, name, shown, opacity)\u001b[0m\n\u001b[1;32m   1362\u001b[0m \u001b[38;5;28;01mif\u001b[39;00m (\n\u001b[1;32m   1363\u001b[0m     \u001b[38;5;129;01mnot\u001b[39;00m \u001b[38;5;28misinstance\u001b[39m(ee_object, ee\u001b[38;5;241m.\u001b[39mImage)\n\u001b[1;32m   1364\u001b[0m     \u001b[38;5;129;01mand\u001b[39;00m \u001b[38;5;129;01mnot\u001b[39;00m \u001b[38;5;28misinstance\u001b[39m(ee_object, ee\u001b[38;5;241m.\u001b[39mImageCollection)\n\u001b[0;32m   (...)\u001b[0m\n\u001b[1;32m   1367\u001b[0m     \u001b[38;5;129;01mand\u001b[39;00m \u001b[38;5;129;01mnot\u001b[39;00m \u001b[38;5;28misinstance\u001b[39m(ee_object, ee\u001b[38;5;241m.\u001b[39mGeometry)\n\u001b[1;32m   1368\u001b[0m ):\n\u001b[1;32m   1369\u001b[0m     err_str \u001b[38;5;241m=\u001b[39m \u001b[38;5;124m\"\u001b[39m\u001b[38;5;130;01m\\n\u001b[39;00m\u001b[38;5;130;01m\\n\u001b[39;00m\u001b[38;5;124mThe image argument in \u001b[39m\u001b[38;5;124m'\u001b[39m\u001b[38;5;124maddLayer\u001b[39m\u001b[38;5;124m'\u001b[39m\u001b[38;5;124m function must be an instance of one of ee.Image, ee.Geometry, ee.Feature or ee.FeatureCollection.\u001b[39m\u001b[38;5;124m\"\u001b[39m\n\u001b[0;32m-> 1370\u001b[0m     \u001b[38;5;28;01mraise\u001b[39;00m \u001b[38;5;167;01mAttributeError\u001b[39;00m(err_str)\n\u001b[1;32m   1372\u001b[0m \u001b[38;5;28;01mif\u001b[39;00m (\n\u001b[1;32m   1373\u001b[0m     \u001b[38;5;28misinstance\u001b[39m(ee_object, ee\u001b[38;5;241m.\u001b[39mgeometry\u001b[38;5;241m.\u001b[39mGeometry)\n\u001b[1;32m   1374\u001b[0m     \u001b[38;5;129;01mor\u001b[39;00m \u001b[38;5;28misinstance\u001b[39m(ee_object, ee\u001b[38;5;241m.\u001b[39mfeature\u001b[38;5;241m.\u001b[39mFeature)\n\u001b[1;32m   1375\u001b[0m     \u001b[38;5;129;01mor\u001b[39;00m \u001b[38;5;28misinstance\u001b[39m(ee_object, ee\u001b[38;5;241m.\u001b[39mfeaturecollection\u001b[38;5;241m.\u001b[39mFeatureCollection)\n\u001b[1;32m   1376\u001b[0m ):\n\u001b[1;32m   1377\u001b[0m     features \u001b[38;5;241m=\u001b[39m ee\u001b[38;5;241m.\u001b[39mFeatureCollection(ee_object)\n",
      "\u001b[0;31mAttributeError\u001b[0m: \n\nThe image argument in 'addLayer' function must be an instance of one of ee.Image, ee.Geometry, ee.Feature or ee.FeatureCollection."
     ]
    }
   ],
   "source": [
    "#******************************** preprocessing *************************************#\n",
    "for coverIMG in coverLIST:\n",
    "    coverIMG_DIR = os.path.join(coverDIR, coverIMG)\n",
    "    \n",
    "\n",
    "    \n",
    "    #coverIMG = geemap.load_GeoTIFF(coverIMG_DIR)\n",
    "    \n",
    "\n",
    "Map\n"
   ]
  },
  {
   "cell_type": "code",
   "execution_count": 16,
   "id": "988c94f1-430c-4b63-af7f-1c178fb60cd9",
   "metadata": {},
   "outputs": [
    {
     "name": "stdout",
     "output_type": "stream",
     "text": [
      "/Volumes/data2/dyang/projects/shrub_change/data/shrub_cover/alder/ang20190707t203417_rfl_v2v2_img_topo_brdf_alder_cover.tif\n"
     ]
    }
   ],
   "source": [
    "print(coverRST)"
   ]
  },
  {
   "cell_type": "code",
   "execution_count": null,
   "id": "8300a640-3a1d-47f3-9ef3-03c02c83b020",
   "metadata": {},
   "outputs": [],
   "source": []
  }
 ],
 "metadata": {
  "kernelspec": {
   "display_name": "Python 3 (ipykernel)",
   "language": "python",
   "name": "python3"
  },
  "language_info": {
   "codemirror_mode": {
    "name": "ipython",
    "version": 3
   },
   "file_extension": ".py",
   "mimetype": "text/x-python",
   "name": "python",
   "nbconvert_exporter": "python",
   "pygments_lexer": "ipython3",
   "version": "3.10.4"
  }
 },
 "nbformat": 4,
 "nbformat_minor": 5
}
