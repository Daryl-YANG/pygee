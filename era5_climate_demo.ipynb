{
 "cells": [
  {
   "cell_type": "code",
   "execution_count": 1,
   "id": "820928b0-f120-4640-83f8-c9a9262cf383",
   "metadata": {},
   "outputs": [],
   "source": [
    "# import stats packages\n",
    "import numpy as np\n",
    "import pandas as pd\n",
    "import sys, os\n",
    "import glob\n",
    "import fiona\n",
    "from plotnine import ggplot\n",
    "\n",
    "# import spatial modules\n",
    "import ee\n",
    "import geemap\n",
    "#from osgeo import gdal #install with pip3, don't use conda\n",
    "\n",
    "# don't display warnings\n",
    "import warnings\n",
    "warnings.filterwarnings('ignore') "
   ]
  },
  {
   "cell_type": "code",
   "execution_count": 2,
   "id": "f74b47ed-3fd9-4513-884a-4f5bf36262ef",
   "metadata": {},
   "outputs": [
    {
     "data": {
      "text/html": [
       "<p>To authorize access needed by Earth Engine, open the following\n",
       "        URL in a web browser and follow the instructions:</p>\n",
       "        <p><a href=https://code.earthengine.google.com/client-auth?scopes=https%3A//www.googleapis.com/auth/earthengine%20https%3A//www.googleapis.com/auth/devstorage.full_control&request_id=oM5rvc8E1fc_TdiqMay63RPe-oDtbIf5Yw00GtOAFOo&tc=4Biyi3RZyuorbHYlPb7ZBiC-XS-9pTTj1J4UtdWz3UE&cc=xwoGRLMFmnEPTNwRd8-V3U2tyCknqx6OgZkQvqniabw>https://code.earthengine.google.com/client-auth?scopes=https%3A//www.googleapis.com/auth/earthengine%20https%3A//www.googleapis.com/auth/devstorage.full_control&request_id=oM5rvc8E1fc_TdiqMay63RPe-oDtbIf5Yw00GtOAFOo&tc=4Biyi3RZyuorbHYlPb7ZBiC-XS-9pTTj1J4UtdWz3UE&cc=xwoGRLMFmnEPTNwRd8-V3U2tyCknqx6OgZkQvqniabw</a></p>\n",
       "        <p>The authorization workflow will generate a code, which you\n",
       "        should paste in the box below</p>\n",
       "        "
      ],
      "text/plain": [
       "<IPython.core.display.HTML object>"
      ]
     },
     "metadata": {},
     "output_type": "display_data"
    },
    {
     "name": "stdin",
     "output_type": "stream",
     "text": [
      "Enter verification code:  4/1AX4XfWjv3cfIl1o6CXmKIVPDKvvfxg1LPhgQuNUEn3xrzSiqSRB2Hlqin7o\n"
     ]
    },
    {
     "name": "stdout",
     "output_type": "stream",
     "text": [
      "\n",
      "Successfully saved authorization token.\n"
     ]
    }
   ],
   "source": [
    "#********************************* Initialize GEE  ***********************************#\n",
    "## trigger the authentication flow. only need once\n",
    "ee.Authenticate()\n",
    "## After inserting the API key initialize GEE\n",
    "ee.Initialize()"
   ]
  },
  {
   "cell_type": "code",
   "execution_count": 110,
   "id": "1d07c130-fc8d-42f2-bf37-9f792248abdc",
   "metadata": {
    "tags": []
   },
   "outputs": [
    {
     "name": "stdout",
     "output_type": "stream",
     "text": [
      "/Users/darylyang/Desktop/conda/gee/test\n"
     ]
    }
   ],
   "source": [
    "#****************************** define user parameters *******************************#\n",
    "# setup output directory\n",
    "outDIR=\"/Users/darylyang/Desktop/conda/gee/test\"\n",
    "# create output folder if it does not exist\n",
    "os.makedirs(outDIR, exist_ok=True)\n",
    "# print output directory\n",
    "print(outDIR)\n",
    "\n",
    "# setup date range in which MODIS data will be extracted\n",
    "dateBEG = ee.Date(\"2011-01-01\")\n",
    "dateEND = ee.Date(\"2015-12-31\")\n",
    "# setup month in which MODIS data will be extracted \n",
    "monBEG = 1\n",
    "monEND = 1\n",
    "\n",
    "# set visualization parameters.\n",
    "lst_vis_params = {\n",
    "    'min': 1,\n",
    "    'max': 50000000,\n",
    "    'palette': [\n",
    "    '040274', '040281', '0502a3', '0502b8', '0502ce', '0502e6',\n",
    "    '0602ff', '235cb1', '307ef3', '269db1', '30c8e2', '32d3ef',\n",
    "    '3be285', '3ff38f', '86e26f', '3ae237', 'b5e22e', 'd6e21f',\n",
    "    'fff705', 'ffd611', 'ffb613', 'ff8b13', 'ff6e08', 'ff500d',\n",
    "    'ff0000', 'de0101', 'c21301', 'a71001', '911003'\n",
    "  ]\n",
    "}"
   ]
  },
  {
   "cell_type": "code",
   "execution_count": 111,
   "id": "91313bbf-596c-4f78-8786-a230c525c67f",
   "metadata": {
    "tags": []
   },
   "outputs": [
    {
     "name": "stdout",
     "output_type": "stream",
     "text": [
      "Count:  5\n",
      "\n"
     ]
    }
   ],
   "source": [
    "#********************************* load in data **************************************#\n",
    "# load in modis land surface temperature\n",
    "era5COLL = ee.ImageCollection('ECMWF/ERA5_LAND/MONTHLY').filter(ee.Filter.date(dateBEG, dateEND))\n",
    "era5COLL = era5COLL.filter(ee.Filter.calendarRange(monBEG,monEND,'month'));\n",
    "# count the number of images found\n",
    "count = era5COLL.size()\n",
    "print('Count: ', str(count.getInfo())+'\\n')\n",
    "# extract temperature\n",
    "era5COLL_SR = era5COLL.select('surface_thermal_radiation_downwards')\n",
    "\n",
    "\n",
    "# load in a polygon where MODIS will be clipped out\n",
    "shpDIR = \"/Volumes/data2/dyang/projects/arctic_energy/boundary/above_domain_use.shp\"\n",
    "shpVCT = geemap.shp_to_ee(shpDIR)"
   ]
  },
  {
   "cell_type": "code",
   "execution_count": 112,
   "id": "0c6c8f2e-a03a-417a-a444-d22b28bd2fef",
   "metadata": {},
   "outputs": [
    {
     "data": {
      "application/vnd.jupyter.widget-view+json": {
       "model_id": "217e08d783e84521881b30170a938e67",
       "version_major": 2,
       "version_minor": 0
      },
      "text/plain": [
       "Map(center=[65, -120], controls=(WidgetControl(options=['position', 'transparent_bg'], widget=HBox(children=(T…"
      ]
     },
     "metadata": {},
     "output_type": "display_data"
    }
   ],
   "source": [
    "#******************************** preprocessing *************************************#\n",
    "# clip out the region defined by shp file\n",
    "def geeclip (image):\n",
    "    return image.clip(shpVCT)\n",
    "era5COLL_SR_CLP = era5COLL_SR.map(geeclip)\n",
    "\n",
    "# calculate mean\n",
    "# calculate mean\n",
    "era5COLL_SR_MN = era5COLL_SR_CLP.reduce(ee.Reducer.mean())\n",
    "\n",
    "# make a quick display show the data region\n",
    "Map = geemap.Map(center=(65, -120), zoom=3)\n",
    "Map.addLayer(shpVCT, {}, 'ROI')\n",
    "Map.addLayer(era5COLL_SR_MN, lst_vis_params, 'MODIS LST', True, 1)\n",
    "Map.add_colorbar(vis_params=lst_vis_params, label='MODIS LST (Kelvin, Scale = 0.02)')\n",
    "Map"
   ]
  },
  {
   "cell_type": "code",
   "execution_count": 113,
   "id": "ff0a6f20-1bfd-4e55-8a4b-12eeef9174dc",
   "metadata": {},
   "outputs": [],
   "source": [
    "#******************************** preprocessing *************************************#\n",
    "geometry = ee.Geometry.Rectangle([-168, 49, -81, 80])\n",
    "#geometry = shpVCT.geometry().bounds().getInfo()['coordinates']\n",
    "task = ee.batch.Export.image.toDrive(**{\n",
    "    'image': era5COLL_SR_MN, \n",
    "    'description': 'era5_sr_above_month_1', \n",
    "    'folder': 'era5_lr', \n",
    "    'scale': 5000, \n",
    "    'region': geometry, #shpVCT.geometry().bounds().getInfo()['coordinates'], \n",
    "    'maxPixels': 10e12 })\n",
    "task.start()"
   ]
  },
  {
   "cell_type": "code",
   "execution_count": null,
   "id": "291f1157-502b-44aa-8993-7f7b3f45d40b",
   "metadata": {},
   "outputs": [],
   "source": []
  }
 ],
 "metadata": {
  "kernelspec": {
   "display_name": "Python 3 (ipykernel)",
   "language": "python",
   "name": "python3"
  },
  "language_info": {
   "codemirror_mode": {
    "name": "ipython",
    "version": 3
   },
   "file_extension": ".py",
   "mimetype": "text/x-python",
   "name": "python",
   "nbconvert_exporter": "python",
   "pygments_lexer": "ipython3",
   "version": "3.9.12"
  }
 },
 "nbformat": 4,
 "nbformat_minor": 5
}
