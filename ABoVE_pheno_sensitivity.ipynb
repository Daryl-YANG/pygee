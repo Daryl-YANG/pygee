{
 "cells": [
  {
   "cell_type": "code",
   "execution_count": 1,
   "id": "447aa04e",
   "metadata": {},
   "outputs": [],
   "source": [
    "# import stats packages\n",
    "import numpy as np\n",
    "import pandas as pd\n",
    "import sys, os\n",
    "import glob\n",
    "import fiona\n",
    "from plotnine import ggplot\n",
    "\n",
    "# import spatial modules\n",
    "import ee\n",
    "import geemap\n",
    "#from osgeo import gdal #install with pip3, don't use conda\n",
    "\n",
    "# don't display warnings\n",
    "import warnings\n",
    "warnings.filterwarnings('ignore') "
   ]
  },
  {
   "cell_type": "code",
   "execution_count": 2,
   "id": "1687b03a",
   "metadata": {},
   "outputs": [
    {
     "data": {
      "text/html": [
       "<p>To authorize access needed by Earth Engine, open the following\n",
       "        URL in a web browser and follow the instructions:</p>\n",
       "        <p><a href=https://code.earthengine.google.com/client-auth?scopes=https%3A//www.googleapis.com/auth/earthengine%20https%3A//www.googleapis.com/auth/devstorage.full_control&request_id=DVpbQJEW4t1y3LUXMlgMvcJj8uc7YcdhM0XyNCq8oZk&tc=eKfB7pVt505vZc06VIJH2xol7JF5ai_TY_kPoLf2Qdw&cc=w8CvMwW1bE_rOORyw6LMiSGwkpbn_tO-nxKxEskJPSg>https://code.earthengine.google.com/client-auth?scopes=https%3A//www.googleapis.com/auth/earthengine%20https%3A//www.googleapis.com/auth/devstorage.full_control&request_id=DVpbQJEW4t1y3LUXMlgMvcJj8uc7YcdhM0XyNCq8oZk&tc=eKfB7pVt505vZc06VIJH2xol7JF5ai_TY_kPoLf2Qdw&cc=w8CvMwW1bE_rOORyw6LMiSGwkpbn_tO-nxKxEskJPSg</a></p>\n",
       "        <p>The authorization workflow will generate a code, which you\n",
       "        should paste in the box below</p>\n",
       "        "
      ],
      "text/plain": [
       "<IPython.core.display.HTML object>"
      ]
     },
     "metadata": {},
     "output_type": "display_data"
    },
    {
     "name": "stdin",
     "output_type": "stream",
     "text": [
      "Enter verification code:  4/1AX4XfWiHA8h2KYYX8AZvSIoP-ZNsbTiDFh5M4KODEfXmCcCJnNresy-7bBE\n"
     ]
    },
    {
     "name": "stdout",
     "output_type": "stream",
     "text": [
      "\n",
      "Successfully saved authorization token.\n"
     ]
    }
   ],
   "source": [
    "#********************************* Initialize GEE  ***********************************#\n",
    "## trigger the authentication flow. only need once\n",
    "ee.Authenticate()\n",
    "## After inserting the API key initialize GEE\n",
    "ee.Initialize()"
   ]
  },
  {
   "cell_type": "code",
   "execution_count": 3,
   "id": "b4944280",
   "metadata": {},
   "outputs": [
    {
     "name": "stdout",
     "output_type": "stream",
     "text": [
      "/Users/darylyang/Desktop/conda/gee/test\n"
     ]
    }
   ],
   "source": [
    "#****************************** define user parameters *******************************#\n",
    "# setup output directory\n",
    "outDIR=\"/Users/darylyang/Desktop/conda/gee/test\"\n",
    "# create output folder if it does not exist\n",
    "os.makedirs(outDIR, exist_ok=True)\n",
    "# print output directory\n",
    "print(outDIR)\n",
    "\n",
    "# setup date range in which MODIS data will be extracted\n",
    "dateBEG = ee.Date(\"2000-01-01\")\n",
    "dateEND = ee.Date(\"2020-12-31\")\n",
    "# setup month in which MODIS data will be extracted \n",
    "monBEG = 1\n",
    "monEND = 12\n",
    "\n",
    "# set visualization parameters.\n",
    "lst_vis_params = {\n",
    "    'min': 100,\n",
    "    'max': 200,\n",
    "    'palette': [\n",
    "    '040274', '040281', '0502a3', '0502b8', '0502ce', '0502e6',\n",
    "    '0602ff', '235cb1', '307ef3', '269db1', '30c8e2', '32d3ef',\n",
    "    '3be285', '3ff38f', '86e26f', '3ae237', 'b5e22e', 'd6e21f',\n",
    "    'fff705', 'ffd611', 'ffb613', 'ff8b13', 'ff6e08', 'ff500d',\n",
    "    'ff0000', 'de0101', 'c21301', 'a71001', '911003']\n",
    "}"
   ]
  },
  {
   "cell_type": "code",
   "execution_count": 4,
   "id": "b6d65544",
   "metadata": {},
   "outputs": [
    {
     "name": "stdout",
     "output_type": "stream",
     "text": [
      "Count:  19\n",
      "\n"
     ]
    }
   ],
   "source": [
    "#********************************* load in data **************************************#\n",
    "# load in modis land surface temperature\n",
    "modCOLL = ee.ImageCollection('MODIS/006/MCD12Q2').filter(ee.Filter.date(dateBEG, dateEND))\n",
    "modCOLL = modCOLL.filter(ee.Filter.calendarRange(monBEG,monEND,'month'));\n",
    "# count the number of images found\n",
    "count = modCOLL.size()\n",
    "print('Count: ', str(count.getInfo())+'\\n')\n",
    "# extract temperature\n",
    "modPHENO_DAY = modCOLL.select('Greenup_1')\n",
    "\n",
    "# load in a polygon where MODIS will be clipped out\n",
    "shpDIR = \"/Volumes/data2/dyang/projects/arctic_energy_balance/boundary/above_domain_use.shp\"\n",
    "shpVCT = geemap.shp_to_ee(shpDIR)"
   ]
  },
  {
   "cell_type": "code",
   "execution_count": 5,
   "id": "9128a091",
   "metadata": {},
   "outputs": [
    {
     "data": {
      "application/vnd.jupyter.widget-view+json": {
       "model_id": "f5f6a46dfc2344719a18e3979c5386f7",
       "version_major": 2,
       "version_minor": 0
      },
      "text/plain": [
       "Map(center=[65, -120], controls=(ZoomControl(options=['position', 'zoom_in_text', 'zoom_in_title', 'zoom_out_t…"
      ]
     },
     "metadata": {},
     "output_type": "display_data"
    }
   ],
   "source": [
    "#******************************** preprocessing *************************************#\n",
    "# clip out the region defined by shp file\n",
    "def geeclip (image):\n",
    "    return image.clip(shpVCT)\n",
    "modPHENO_CLP = modPHENO_DAY.map(geeclip)\n",
    "\n",
    "def geedoy (image):\n",
    "    epoch = image.get(\"system:time_start\")\n",
    "    img_T = ee.Date(epoch)\n",
    "    ref_T = ee.Date('1970-01-01')\n",
    "    dif_T =  img_T.difference(ref_T, 'days')\n",
    "    doy = image.subtract(dif_T)\n",
    "    return doy\n",
    "modPHENO_DAT = modPHENO_CLP.map(geedoy)\n",
    "\n",
    "modPHENO_COMBN = modPHENO_DAT.toBands()\n",
    "\n",
    "# make a quick display show the data region\n",
    "Map = geemap.Map(center=(65, -120), zoom=3)\n",
    "Map.addLayer(shpVCT, {}, 'ROI')\n",
    "left_vis_params = {\n",
    "    'bands': [\"2001_01_01_Greenup_1\"],\n",
    "    'min': 100,\n",
    "    'max': 200,\n",
    "    'palette': [\n",
    "    '040274', '040281', '0502a3', '0502b8', '0502ce', '0502e6',\n",
    "    '0602ff', '235cb1', '307ef3', '269db1', '30c8e2', '32d3ef',\n",
    "    '3be285', '3ff38f', '86e26f', '3ae237', 'b5e22e', 'd6e21f',\n",
    "    'fff705', 'ffd611', 'ffb613', 'ff8b13', 'ff6e08', 'ff500d',\n",
    "    'ff0000', 'de0101', 'c21301', 'a71001', '911003']\n",
    "}\n",
    "right_vis_params = {\n",
    "    'bands': [\"2019_01_01_Greenup_1\"],\n",
    "    'min': 100,\n",
    "    'max': 200,\n",
    "    'palette': [\n",
    "    '040274', '040281', '0502a3', '0502b8', '0502ce', '0502e6',\n",
    "    '0602ff', '235cb1', '307ef3', '269db1', '30c8e2', '32d3ef',\n",
    "    '3be285', '3ff38f', '86e26f', '3ae237', 'b5e22e', 'd6e21f',\n",
    "    'fff705', 'ffd611', 'ffb613', 'ff8b13', 'ff6e08', 'ff500d',\n",
    "    'ff0000', 'de0101', 'c21301', 'a71001', '911003']\n",
    "}\n",
    "\n",
    "left_layer = geemap.ee_tile_layer(modPHENO_COMBN, left_vis_params, '2000')\n",
    "right_layer = geemap.ee_tile_layer(modPHENO_COMBN, right_vis_params, '2018')\n",
    "Map.split_map(left_layer, right_layer)\n",
    "#Map.addLayer(modPHENO_COMBN, [], 'MODIS PHENO', True, 1)\n",
    "#Map.add_colorbar(vis_params=lst_vis_params, label='MODIS LST (Scale = 0.001)')\n",
    "Map"
   ]
  },
  {
   "cell_type": "code",
   "execution_count": 11,
   "id": "a15821fc",
   "metadata": {},
   "outputs": [],
   "source": [
    "#******************************** preprocessing *************************************#\n",
    "geometry = ee.Geometry.Rectangle([-168, 49, -81, 80])\n",
    "#geometry = shpVCT.geometry().bounds().getInfo()['coordinates']\n",
    "task = ee.batch.Export.image.toDrive(**{\n",
    "    'image': modPHENO_COMBN, \n",
    "    'description': 'modis_pheno_above', \n",
    "    'folder': 'modis_pheno', \n",
    "    'scale': 500, \n",
    "    'region': geometry, #shpVCT.geometry().bounds().getInfo()['coordinates'], \n",
    "    'maxPixels': 10e12 })\n",
    "task.start()"
   ]
  },
  {
   "cell_type": "code",
   "execution_count": 8,
   "id": "e84dc598",
   "metadata": {},
   "outputs": [
    {
     "name": "stdout",
     "output_type": "stream",
     "text": [
      "[[[-168.1244319543029, 49.11426587996164], [-81.1912137738674, 49.11426587996164], [-81.1912137738674, 79.38374146033385], [-168.1244319543029, 79.38374146033385], [-168.1244319543029, 49.11426587996164]]]\n"
     ]
    }
   ],
   "source": [
    "\n",
    "print(geometry)"
   ]
  },
  {
   "cell_type": "code",
   "execution_count": null,
   "id": "09ce3305",
   "metadata": {},
   "outputs": [],
   "source": []
  },
  {
   "cell_type": "code",
   "execution_count": null,
   "id": "1cf43880",
   "metadata": {},
   "outputs": [],
   "source": []
  },
  {
   "cell_type": "code",
   "execution_count": null,
   "id": "c73d20fa",
   "metadata": {},
   "outputs": [],
   "source": []
  }
 ],
 "metadata": {
  "kernelspec": {
   "display_name": "Python 3 (ipykernel)",
   "language": "python",
   "name": "python3"
  },
  "language_info": {
   "codemirror_mode": {
    "name": "ipython",
    "version": 3
   },
   "file_extension": ".py",
   "mimetype": "text/x-python",
   "name": "python",
   "nbconvert_exporter": "python",
   "pygments_lexer": "ipython3",
   "version": "3.9.12"
  }
 },
 "nbformat": 4,
 "nbformat_minor": 5
}
