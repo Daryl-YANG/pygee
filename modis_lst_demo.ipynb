{
 "cells": [
  {
   "cell_type": "code",
   "execution_count": 1,
   "id": "aa40c5e9",
   "metadata": {},
   "outputs": [],
   "source": [
    "# import stats packages\n",
    "import numpy as np\n",
    "import pandas as pd\n",
    "import sys, os\n",
    "import glob\n",
    "import fiona\n",
    "from plotnine import ggplot\n",
    "\n",
    "# import spatial modules\n",
    "import ee\n",
    "import geemap\n",
    "#from osgeo import gdal #install with pip3, don't use conda\n",
    "\n",
    "# don't display warnings\n",
    "import warnings\n",
    "warnings.filterwarnings('ignore') "
   ]
  },
  {
   "cell_type": "code",
   "execution_count": 2,
   "id": "7dd800da",
   "metadata": {},
   "outputs": [
    {
     "data": {
      "text/html": [
       "<p>To authorize access needed by Earth Engine, open the following\n",
       "        URL in a web browser and follow the instructions:</p>\n",
       "        <p><a href=https://code.earthengine.google.com/client-auth?scopes=https%3A//www.googleapis.com/auth/earthengine%20https%3A//www.googleapis.com/auth/devstorage.full_control&request_id=JCgMAoL3heaSmsmz63Nv_H1hqRbD0sgABPxTMIfJX8Q&tc=hBsGtK7SEkU8a8JrW3aeEDegaccSt7nwlySEyoOSyzM&cc=IbNglrRs0ZiwMStBarc5s3718NpGBu-sTG58N9DunnM>https://code.earthengine.google.com/client-auth?scopes=https%3A//www.googleapis.com/auth/earthengine%20https%3A//www.googleapis.com/auth/devstorage.full_control&request_id=JCgMAoL3heaSmsmz63Nv_H1hqRbD0sgABPxTMIfJX8Q&tc=hBsGtK7SEkU8a8JrW3aeEDegaccSt7nwlySEyoOSyzM&cc=IbNglrRs0ZiwMStBarc5s3718NpGBu-sTG58N9DunnM</a></p>\n",
       "        <p>The authorization workflow will generate a code, which you\n",
       "        should paste in the box below</p>\n",
       "        "
      ],
      "text/plain": [
       "<IPython.core.display.HTML object>"
      ]
     },
     "metadata": {},
     "output_type": "display_data"
    },
    {
     "name": "stdout",
     "output_type": "stream",
     "text": [
      "Enter verification code: 4/1AX4XfWg-VMvR3-O7i59T_6qK_9JL9OWkdQoFOzBKl2pHfeqQnp5g-12X_Vs\n",
      "\n",
      "Successfully saved authorization token.\n"
     ]
    }
   ],
   "source": [
    "#********************************* Initialize GEE  ***********************************#\n",
    "## trigger the authentication flow. only need once\n",
    "ee.Authenticate()\n",
    "## After inserting the API key initialize GEE\n",
    "ee.Initialize()"
   ]
  },
  {
   "cell_type": "code",
   "execution_count": 3,
   "id": "078c265d",
   "metadata": {},
   "outputs": [
    {
     "name": "stdout",
     "output_type": "stream",
     "text": [
      "/Users/darylyang/Desktop/conda/gee/test\n"
     ]
    }
   ],
   "source": [
    "#****************************** define user parameters *******************************#\n",
    "# setup output directory\n",
    "outDIR=\"/Users/darylyang/Desktop/conda/gee/test\"\n",
    "# create output folder if it does not exist\n",
    "os.makedirs(outDIR, exist_ok=True)\n",
    "# print output directory\n",
    "print(outDIR)\n",
    "\n",
    "# setup date range in which MODIS data will be extracted\n",
    "dateBEG = ee.Date(\"2011-01-01\")\n",
    "dateEND = ee.Date(\"2015-12-31\")\n",
    "# setup month in which MODIS data will be extracted \n",
    "monBEG = 12\n",
    "monEND = 12\n",
    "\n",
    "# set visualization parameters.\n",
    "lst_vis_params = {\n",
    "    'min': 12000,\n",
    "    'max': 15000,\n",
    "    'palette': [\n",
    "    '040274', '040281', '0502a3', '0502b8', '0502ce', '0502e6',\n",
    "    '0602ff', '235cb1', '307ef3', '269db1', '30c8e2', '32d3ef',\n",
    "    '3be285', '3ff38f', '86e26f', '3ae237', 'b5e22e', 'd6e21f',\n",
    "    'fff705', 'ffd611', 'ffb613', 'ff8b13', 'ff6e08', 'ff500d',\n",
    "    'ff0000', 'de0101', 'c21301', 'a71001', '911003'\n",
    "  ]\n",
    "}"
   ]
  },
  {
   "cell_type": "code",
   "execution_count": 4,
   "id": "272f76a9",
   "metadata": {},
   "outputs": [
    {
     "name": "stdout",
     "output_type": "stream",
     "text": [
      "Count:  154\n",
      "\n"
     ]
    }
   ],
   "source": [
    "#********************************* load in data **************************************#\n",
    "# load in modis land surface temperature\n",
    "modCOLL = ee.ImageCollection('MODIS/006/MOD11A1').filter(ee.Filter.date(dateBEG, dateEND))\n",
    "modCOLL = modCOLL.filter(ee.Filter.calendarRange(monBEG,monEND,'month'));\n",
    "# count the number of images found\n",
    "count = modCOLL.size()\n",
    "print('Count: ', str(count.getInfo())+'\\n')\n",
    "# extract temperature\n",
    "modLST_DAY = modCOLL.select('LST_Day_1km')\n",
    "modLST_NIT = modCOLL.select('LST_Night_1km')\n",
    "\n",
    "# load in a polygon where MODIS will be clipped out\n",
    "shpDIR = \"/Volumes/data2/dyang/projects/arctic_energy/boundary/above_domain_use.shp\"\n",
    "shpVCT = geemap.shp_to_ee(shpDIR)"
   ]
  },
  {
   "cell_type": "code",
   "execution_count": 5,
   "id": "d69885b2",
   "metadata": {},
   "outputs": [
    {
     "data": {
      "application/vnd.jupyter.widget-view+json": {
       "model_id": "3216bda2d90b4e50890cbf8a2d7a2a37",
       "version_major": 2,
       "version_minor": 0
      },
      "text/plain": [
       "Map(center=[65, -120], controls=(WidgetControl(options=['position', 'transparent_bg'], widget=HBox(children=(T…"
      ]
     },
     "metadata": {},
     "output_type": "display_data"
    }
   ],
   "source": [
    "#******************************** preprocessing *************************************#\n",
    "# clip out the region defined by shp file\n",
    "def geeclip (image):\n",
    "    return image.clip(shpVCT)\n",
    "modLST_DAY_CLP = modLST_DAY.map(geeclip)\n",
    "modLST_NIT_CLP = modLST_NIT.map(geeclip)\n",
    "\n",
    "# calculate mean\n",
    "# calculate mean\n",
    "modLST_DAY_MN = modLST_DAY_CLP.reduce(ee.Reducer.mean())\n",
    "modLST_NIT_MN = modLST_NIT_CLP.reduce(ee.Reducer.mean())\n",
    "\n",
    "modLST_MN = modLST_DAY_MN.add(modLST_NIT_MN).divide(2)\n",
    "\n",
    "# make a quick display show the data region\n",
    "Map = geemap.Map(center=(65, -120), zoom=3)\n",
    "Map.addLayer(shpVCT, {}, 'ROI')\n",
    "Map.addLayer(modLST_MN, lst_vis_params, 'MODIS LST', True, 1)\n",
    "Map.add_colorbar(vis_params=lst_vis_params, label='MODIS LST (Kelvin, Scale = 0.02)')\n",
    "Map"
   ]
  },
  {
   "cell_type": "code",
   "execution_count": 6,
   "id": "2602bf11",
   "metadata": {},
   "outputs": [],
   "source": [
    "#******************************** preprocessing *************************************#\n",
    "geometry = ee.Geometry.Rectangle([-168, 49, -81, 80])\n",
    "#geometry = shpVCT.geometry().bounds().getInfo()['coordinates']\n",
    "task = ee.batch.Export.image.toDrive(**{\n",
    "    'image': modLST_MN, \n",
    "    'description': 'modis_lst_above_month_12', \n",
    "    'folder': 'modis_lst', \n",
    "    'scale': 1000, \n",
    "    'region': geometry, #shpVCT.geometry().bounds().getInfo()['coordinates'], \n",
    "    'maxPixels': 10e12 })\n",
    "task.start()"
   ]
  },
  {
   "cell_type": "code",
   "execution_count": null,
   "id": "c9123999",
   "metadata": {},
   "outputs": [],
   "source": []
  },
  {
   "cell_type": "code",
   "execution_count": null,
   "id": "90cfc8f5",
   "metadata": {},
   "outputs": [],
   "source": []
  }
 ],
 "metadata": {
  "kernelspec": {
   "display_name": "Python 3 (ipykernel)",
   "language": "python",
   "name": "python3"
  },
  "language_info": {
   "codemirror_mode": {
    "name": "ipython",
    "version": 3
   },
   "file_extension": ".py",
   "mimetype": "text/x-python",
   "name": "python",
   "nbconvert_exporter": "python",
   "pygments_lexer": "ipython3",
   "version": "3.9.12"
  }
 },
 "nbformat": 4,
 "nbformat_minor": 5
}
